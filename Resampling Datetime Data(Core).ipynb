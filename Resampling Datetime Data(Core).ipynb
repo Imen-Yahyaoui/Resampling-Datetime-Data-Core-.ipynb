{
 "cells": [
  {
   "cell_type": "markdown",
   "id": "6bc62fb6-6682-4c0e-a2b8-141be7fbcc26",
   "metadata": {},
   "source": [
    "import pandas as pd\n",
    "import matplotlib.pyplot as plt\n",
    "import seaborn as sns\n",
    "\n",
    "url =\"https://docs.google.com/spreadsheets/d/e/2PACX-1vT_jChgNsQbHbg4TGepzIqk8XC9DTIKmyyxb1upo5cfZCgbfIUQc2ZC0YMzuU5uApP140Ob49KBjdqh/pub?gid=1198589591&single=true&output=csv\"\n",
    "df = pd.read_csv(url)\n",
    "df"
   ]
  },
  {
   "cell_type": "code",
   "execution_count": 5,
   "id": "68b243c8-3efa-43c7-bf9a-d71a1a38c629",
   "metadata": {},
   "outputs": [],
   "source": [
    "# Part 1: Load the data and create a datetime index# Part 1: Load the data and create a datetime index"
   ]
  },
  {
   "cell_type": "markdown",
   "id": "5eb60842-ce92-488c-97f5-9f98eb34ed3b",
   "metadata": {},
   "source": [
    "Convert the date column to datetime dtype.\n",
    "\n",
    "'Set the date column as the index.\n",
    "'Filter out only the required data:\n",
    "'Keep only data from the year 2000 or later.\n",
    "'Keep only the following features:\n",
    "'precipitation\n",
    "'mean_temp\n",
    "'min_temp\n",
    "'max_temp\n",
    "'snow_depth\n",
    "'Impute any missing values.\n",
    "'Think about each feature and what imputation method makes sense. You may not be able to use the same method for every feature!"
   ]
  },
  {
   "cell_type": "code",
   "execution_count": 6,
   "id": "f957b007-9cbd-4946-9f73-8828c2ae2141",
   "metadata": {},
   "outputs": [
    {
     "data": {
      "text/plain": [
       "0       1979-01-01\n",
       "1       1979-01-02\n",
       "2       1979-01-03\n",
       "3       1979-01-04\n",
       "4       1979-01-05\n",
       "           ...    \n",
       "15336   2020-12-27\n",
       "15337   2020-12-28\n",
       "15338   2020-12-29\n",
       "15339   2020-12-30\n",
       "15340   2020-12-31\n",
       "Name: date, Length: 15341, dtype: datetime64[ns]"
      ]
     },
     "execution_count": 6,
     "metadata": {},
     "output_type": "execute_result"
    }
   ],
   "source": [
    "df['date'] = pd.to_datetime(df['date'], format='%Y%m%d')\n",
    "df['date']"
   ]
  },
  {
   "cell_type": "code",
   "execution_count": 7,
   "id": "49f48f0c-ffa9-466c-b10c-e77f990386b0",
   "metadata": {},
   "outputs": [
    {
     "name": "stdout",
     "output_type": "stream",
     "text": [
      "Index: DatetimeIndex(['1979-01-01', '1979-01-02', '1979-01-03', '1979-01-04',\n",
      "               '1979-01-05', '1979-01-06', '1979-01-07', '1979-01-08',\n",
      "               '1979-01-09', '1979-01-10',\n",
      "               ...\n",
      "               '2020-12-22', '2020-12-23', '2020-12-24', '2020-12-25',\n",
      "               '2020-12-26', '2020-12-27', '2020-12-28', '2020-12-29',\n",
      "               '2020-12-30', '2020-12-31'],\n",
      "              dtype='datetime64[ns]', name='date', length=15341, freq=None)\n",
      "Index Type: <class 'pandas.core.indexes.datetimes.DatetimeIndex'>\n",
      "Frequency: None\n",
      "            cloud_cover  sunshine  global_radiation  max_temp  mean_temp  \\\n",
      "date                                                                       \n",
      "1979-01-01          2.0       7.0              52.0       2.3       -4.1   \n",
      "1979-01-02          6.0       1.7              27.0       1.6       -2.6   \n",
      "1979-01-03          5.0       0.0              13.0       1.3       -2.8   \n",
      "1979-01-04          8.0       0.0              13.0      -0.3       -2.6   \n",
      "1979-01-05          6.0       2.0              29.0       5.6       -0.8   \n",
      "...                 ...       ...               ...       ...        ...   \n",
      "2020-12-27          1.0       0.9              32.0       7.5        7.5   \n",
      "2020-12-28          7.0       3.7              38.0       3.6        1.1   \n",
      "2020-12-29          7.0       0.0              21.0       4.1        2.6   \n",
      "2020-12-30          6.0       0.4              22.0       5.6        2.7   \n",
      "2020-12-31          7.0       1.3              34.0       1.5       -0.8   \n",
      "\n",
      "            min_temp  precipitation  pressure  snow_depth  \n",
      "date                                                       \n",
      "1979-01-01      -7.5            0.4  101900.0         9.0  \n",
      "1979-01-02      -7.5            0.0  102530.0         8.0  \n",
      "1979-01-03      -7.2            0.0  102050.0         4.0  \n",
      "1979-01-04      -6.5            0.0  100840.0         2.0  \n",
      "1979-01-05      -1.4            0.0  102250.0         1.0  \n",
      "...              ...            ...       ...         ...  \n",
      "2020-12-27       7.6            2.0   98000.0         NaN  \n",
      "2020-12-28      -1.3            0.2   97370.0         NaN  \n",
      "2020-12-29       1.1            0.0   98830.0         NaN  \n",
      "2020-12-30      -0.1            0.0  100200.0         NaN  \n",
      "2020-12-31      -3.1            0.0  100500.0         NaN  \n",
      "\n",
      "[15341 rows x 9 columns]\n"
     ]
    }
   ],
   "source": [
    "# set 'datetime' as the index\n",
    "df.set_index('date', inplace=True)\n",
    "# Inspect the new index\n",
    "print(\"Index:\", df.index)\n",
    "# Check the type of index\n",
    "print(\"Index Type:\", type(df.index))\n",
    "# Check the frequency of the index\n",
    "print(\"Frequency:\", df.index.freq)\n",
    "# Output the DataFrame to see the changes\n",
    "print(df)"
   ]
  },
  {
   "cell_type": "code",
   "execution_count": 8,
   "id": "e8413d42-cf59-47ff-9c6e-4cdb464a2272",
   "metadata": {},
   "outputs": [
    {
     "data": {
      "text/html": [
       "<div>\n",
       "<style scoped>\n",
       "    .dataframe tbody tr th:only-of-type {\n",
       "        vertical-align: middle;\n",
       "    }\n",
       "\n",
       "    .dataframe tbody tr th {\n",
       "        vertical-align: top;\n",
       "    }\n",
       "\n",
       "    .dataframe thead th {\n",
       "        text-align: right;\n",
       "    }\n",
       "</style>\n",
       "<table border=\"1\" class=\"dataframe\">\n",
       "  <thead>\n",
       "    <tr style=\"text-align: right;\">\n",
       "      <th></th>\n",
       "      <th>precipitation</th>\n",
       "      <th>mean_temp</th>\n",
       "      <th>min_temp</th>\n",
       "      <th>max_temp</th>\n",
       "      <th>snow_depth</th>\n",
       "    </tr>\n",
       "    <tr>\n",
       "      <th>date</th>\n",
       "      <th></th>\n",
       "      <th></th>\n",
       "      <th></th>\n",
       "      <th></th>\n",
       "      <th></th>\n",
       "    </tr>\n",
       "  </thead>\n",
       "  <tbody>\n",
       "    <tr>\n",
       "      <th>2000-01-01</th>\n",
       "      <td>0.0</td>\n",
       "      <td>7.0</td>\n",
       "      <td>4.9</td>\n",
       "      <td>10.8</td>\n",
       "      <td>0.0</td>\n",
       "    </tr>\n",
       "    <tr>\n",
       "      <th>2000-01-02</th>\n",
       "      <td>0.2</td>\n",
       "      <td>7.9</td>\n",
       "      <td>5.0</td>\n",
       "      <td>11.5</td>\n",
       "      <td>0.0</td>\n",
       "    </tr>\n",
       "    <tr>\n",
       "      <th>2000-01-03</th>\n",
       "      <td>6.0</td>\n",
       "      <td>9.4</td>\n",
       "      <td>7.2</td>\n",
       "      <td>9.5</td>\n",
       "      <td>0.0</td>\n",
       "    </tr>\n",
       "    <tr>\n",
       "      <th>2000-01-04</th>\n",
       "      <td>0.2</td>\n",
       "      <td>7.0</td>\n",
       "      <td>4.4</td>\n",
       "      <td>11.0</td>\n",
       "      <td>0.0</td>\n",
       "    </tr>\n",
       "    <tr>\n",
       "      <th>2000-01-05</th>\n",
       "      <td>0.8</td>\n",
       "      <td>6.4</td>\n",
       "      <td>1.9</td>\n",
       "      <td>10.8</td>\n",
       "      <td>0.0</td>\n",
       "    </tr>\n",
       "    <tr>\n",
       "      <th>...</th>\n",
       "      <td>...</td>\n",
       "      <td>...</td>\n",
       "      <td>...</td>\n",
       "      <td>...</td>\n",
       "      <td>...</td>\n",
       "    </tr>\n",
       "    <tr>\n",
       "      <th>2020-12-27</th>\n",
       "      <td>2.0</td>\n",
       "      <td>7.5</td>\n",
       "      <td>7.6</td>\n",
       "      <td>7.5</td>\n",
       "      <td>NaN</td>\n",
       "    </tr>\n",
       "    <tr>\n",
       "      <th>2020-12-28</th>\n",
       "      <td>0.2</td>\n",
       "      <td>1.1</td>\n",
       "      <td>-1.3</td>\n",
       "      <td>3.6</td>\n",
       "      <td>NaN</td>\n",
       "    </tr>\n",
       "    <tr>\n",
       "      <th>2020-12-29</th>\n",
       "      <td>0.0</td>\n",
       "      <td>2.6</td>\n",
       "      <td>1.1</td>\n",
       "      <td>4.1</td>\n",
       "      <td>NaN</td>\n",
       "    </tr>\n",
       "    <tr>\n",
       "      <th>2020-12-30</th>\n",
       "      <td>0.0</td>\n",
       "      <td>2.7</td>\n",
       "      <td>-0.1</td>\n",
       "      <td>5.6</td>\n",
       "      <td>NaN</td>\n",
       "    </tr>\n",
       "    <tr>\n",
       "      <th>2020-12-31</th>\n",
       "      <td>0.0</td>\n",
       "      <td>-0.8</td>\n",
       "      <td>-3.1</td>\n",
       "      <td>1.5</td>\n",
       "      <td>NaN</td>\n",
       "    </tr>\n",
       "  </tbody>\n",
       "</table>\n",
       "<p>7671 rows × 5 columns</p>\n",
       "</div>"
      ],
      "text/plain": [
       "            precipitation  mean_temp  min_temp  max_temp  snow_depth\n",
       "date                                                                \n",
       "2000-01-01            0.0        7.0       4.9      10.8         0.0\n",
       "2000-01-02            0.2        7.9       5.0      11.5         0.0\n",
       "2000-01-03            6.0        9.4       7.2       9.5         0.0\n",
       "2000-01-04            0.2        7.0       4.4      11.0         0.0\n",
       "2000-01-05            0.8        6.4       1.9      10.8         0.0\n",
       "...                   ...        ...       ...       ...         ...\n",
       "2020-12-27            2.0        7.5       7.6       7.5         NaN\n",
       "2020-12-28            0.2        1.1      -1.3       3.6         NaN\n",
       "2020-12-29            0.0        2.6       1.1       4.1         NaN\n",
       "2020-12-30            0.0        2.7      -0.1       5.6         NaN\n",
       "2020-12-31            0.0       -0.8      -3.1       1.5         NaN\n",
       "\n",
       "[7671 rows x 5 columns]"
      ]
     },
     "execution_count": 8,
     "metadata": {},
     "output_type": "execute_result"
    }
   ],
   "source": [
    "df = df.loc['2000':, ['precipitation', 'mean_temp', 'min_temp','max_temp', 'snow_depth']]\n",
    "df"
   ]
  },
  {
   "cell_type": "code",
   "execution_count": 9,
   "id": "8a2277a2-4b34-41ee-b638-fc9fb40a5da4",
   "metadata": {},
   "outputs": [
    {
     "data": {
      "text/plain": [
       "precipitation     390\n",
       "mean_temp         419\n",
       "min_temp          386\n",
       "max_temp          390\n",
       "snow_depth       1752\n",
       "dtype: int64"
      ]
     },
     "execution_count": 9,
     "metadata": {},
     "output_type": "execute_result"
    }
   ],
   "source": [
    "df.isna().sum()"
   ]
  },
  {
   "cell_type": "code",
   "execution_count": 10,
   "id": "df63dfee-7fa2-4d24-89e1-a5a17776ed28",
   "metadata": {},
   "outputs": [],
   "source": [
    "# Impute any missing values:\n",
    "\n",
    "# filling preciptation/snow with 0\n",
    "df['precipitation'] = df['precipitation'].fillna(0)\n",
    "df['snow_depth'] = df['snow_depth'].fillna(0)\n",
    "## interpolating temperature measures\n",
    "df['mean_temp'] = df['mean_temp'].interpolate()\n",
    "df['max_temp'] = df['max_temp'].interpolate()\n",
    "df['min_temp'] = df['min_temp'].interpolate()"
   ]
  },
  {
   "cell_type": "code",
   "execution_count": 11,
   "id": "e8a0061e-475f-4e37-b7af-865243f88df6",
   "metadata": {},
   "outputs": [
    {
     "data": {
      "text/plain": [
       "precipitation    0\n",
       "mean_temp        0\n",
       "min_temp         0\n",
       "max_temp         0\n",
       "snow_depth       0\n",
       "dtype: int64"
      ]
     },
     "execution_count": 11,
     "metadata": {},
     "output_type": "execute_result"
    }
   ],
   "source": [
    "df.isna().sum()"
   ]
  },
  {
   "cell_type": "markdown",
   "id": "33523fc4-d86d-480d-9f58-2b968dd81b5a",
   "metadata": {},
   "source": [
    "# Part 2) Answer the Questions with Visualizations (Using the Correct Frequency)"
   ]
  },
  {
   "cell_type": "markdown",
   "id": "a185e995-5c9e-4dbb-b536-69972f9651dc",
   "metadata": {},
   "source": [
    "For each of the following questions, make a new copy of the dataframe resampled to the correct frequency for the question.\r\n",
    "\r\n",
    "Plot the feature that the question is asking about.\r\n",
    "\r\n",
    "If there is a specific time period, plot only that time period.\r\n",
    "\r\n",
    "Note: you may want to make a temporary DataFrame that you will use to answer this question only."
   ]
  },
  {
   "cell_type": "markdown",
   "id": "276766e7-a025-4438-ae14-c2f76e08b932",
   "metadata": {},
   "source": [
    "#**Q1**: What month had the most precipitation between 2000 through 2010?\n",
    "\n",
    "Resample the precipitation column to a Monthly frequency using .sum() as the aggregation method\n",
    "\n",
    "Find the date and corresponding value for the max precipitation.\n",
    "\n",
    "Plot the feature and time period that corresponds to the question.\n",
    "\n",
    "Make sure to meet the \"Visualization Requirements\" below!\n",
    "\n",
    "Determine the date and value for the most precipitation (the max precipitation).\n",
    "\n",
    "Add a vertical line at this date with a label that says the date (using date format: \"April 2000\") and the max precipitation value.\n",
    "\n",
    "Make sure to add a legend so that your label is visible."
   ]
  },
  {
   "cell_type": "code",
   "execution_count": 12,
   "id": "b5e7a0c1-3c48-4c04-891f-42a73fa1d544",
   "metadata": {},
   "outputs": [
    {
     "data": {
      "text/html": [
       "<div>\n",
       "<style scoped>\n",
       "    .dataframe tbody tr th:only-of-type {\n",
       "        vertical-align: middle;\n",
       "    }\n",
       "\n",
       "    .dataframe tbody tr th {\n",
       "        vertical-align: top;\n",
       "    }\n",
       "\n",
       "    .dataframe thead th {\n",
       "        text-align: right;\n",
       "    }\n",
       "</style>\n",
       "<table border=\"1\" class=\"dataframe\">\n",
       "  <thead>\n",
       "    <tr style=\"text-align: right;\">\n",
       "      <th></th>\n",
       "      <th>precipitation</th>\n",
       "      <th>mean_temp</th>\n",
       "      <th>min_temp</th>\n",
       "      <th>max_temp</th>\n",
       "      <th>snow_depth</th>\n",
       "    </tr>\n",
       "    <tr>\n",
       "      <th>date</th>\n",
       "      <th></th>\n",
       "      <th></th>\n",
       "      <th></th>\n",
       "      <th></th>\n",
       "      <th></th>\n",
       "    </tr>\n",
       "  </thead>\n",
       "  <tbody>\n",
       "    <tr>\n",
       "      <th>2000-01-01</th>\n",
       "      <td>0.0</td>\n",
       "      <td>7.0</td>\n",
       "      <td>4.9</td>\n",
       "      <td>10.8</td>\n",
       "      <td>0.0</td>\n",
       "    </tr>\n",
       "    <tr>\n",
       "      <th>2000-01-02</th>\n",
       "      <td>0.2</td>\n",
       "      <td>7.9</td>\n",
       "      <td>5.0</td>\n",
       "      <td>11.5</td>\n",
       "      <td>0.0</td>\n",
       "    </tr>\n",
       "    <tr>\n",
       "      <th>2000-01-03</th>\n",
       "      <td>6.0</td>\n",
       "      <td>9.4</td>\n",
       "      <td>7.2</td>\n",
       "      <td>9.5</td>\n",
       "      <td>0.0</td>\n",
       "    </tr>\n",
       "    <tr>\n",
       "      <th>2000-01-04</th>\n",
       "      <td>0.2</td>\n",
       "      <td>7.0</td>\n",
       "      <td>4.4</td>\n",
       "      <td>11.0</td>\n",
       "      <td>0.0</td>\n",
       "    </tr>\n",
       "    <tr>\n",
       "      <th>2000-01-05</th>\n",
       "      <td>0.8</td>\n",
       "      <td>6.4</td>\n",
       "      <td>1.9</td>\n",
       "      <td>10.8</td>\n",
       "      <td>0.0</td>\n",
       "    </tr>\n",
       "    <tr>\n",
       "      <th>...</th>\n",
       "      <td>...</td>\n",
       "      <td>...</td>\n",
       "      <td>...</td>\n",
       "      <td>...</td>\n",
       "      <td>...</td>\n",
       "    </tr>\n",
       "    <tr>\n",
       "      <th>2010-12-27</th>\n",
       "      <td>5.0</td>\n",
       "      <td>0.2</td>\n",
       "      <td>-4.6</td>\n",
       "      <td>8.0</td>\n",
       "      <td>1.0</td>\n",
       "    </tr>\n",
       "    <tr>\n",
       "      <th>2010-12-28</th>\n",
       "      <td>0.4</td>\n",
       "      <td>5.3</td>\n",
       "      <td>2.5</td>\n",
       "      <td>9.5</td>\n",
       "      <td>0.0</td>\n",
       "    </tr>\n",
       "    <tr>\n",
       "      <th>2010-12-29</th>\n",
       "      <td>1.4</td>\n",
       "      <td>6.8</td>\n",
       "      <td>4.1</td>\n",
       "      <td>7.7</td>\n",
       "      <td>0.0</td>\n",
       "    </tr>\n",
       "    <tr>\n",
       "      <th>2010-12-30</th>\n",
       "      <td>0.0</td>\n",
       "      <td>6.9</td>\n",
       "      <td>6.1</td>\n",
       "      <td>6.8</td>\n",
       "      <td>0.0</td>\n",
       "    </tr>\n",
       "    <tr>\n",
       "      <th>2010-12-31</th>\n",
       "      <td>0.0</td>\n",
       "      <td>5.9</td>\n",
       "      <td>5.0</td>\n",
       "      <td>7.2</td>\n",
       "      <td>0.0</td>\n",
       "    </tr>\n",
       "  </tbody>\n",
       "</table>\n",
       "<p>4018 rows × 5 columns</p>\n",
       "</div>"
      ],
      "text/plain": [
       "            precipitation  mean_temp  min_temp  max_temp  snow_depth\n",
       "date                                                                \n",
       "2000-01-01            0.0        7.0       4.9      10.8         0.0\n",
       "2000-01-02            0.2        7.9       5.0      11.5         0.0\n",
       "2000-01-03            6.0        9.4       7.2       9.5         0.0\n",
       "2000-01-04            0.2        7.0       4.4      11.0         0.0\n",
       "2000-01-05            0.8        6.4       1.9      10.8         0.0\n",
       "...                   ...        ...       ...       ...         ...\n",
       "2010-12-27            5.0        0.2      -4.6       8.0         1.0\n",
       "2010-12-28            0.4        5.3       2.5       9.5         0.0\n",
       "2010-12-29            1.4        6.8       4.1       7.7         0.0\n",
       "2010-12-30            0.0        6.9       6.1       6.8         0.0\n",
       "2010-12-31            0.0        5.9       5.0       7.2         0.0\n",
       "\n",
       "[4018 rows x 5 columns]"
      ]
     },
     "execution_count": 12,
     "metadata": {},
     "output_type": "execute_result"
    }
   ],
   "source": [
    "# Date frame between 2000 through 2010\n",
    "df1 = df.loc['2000':'2010', ['precipitation', 'mean_temp', 'min_temp','max_temp', 'snow_depth']]\n",
    "df1"
   ]
  },
  {
   "cell_type": "code",
   "execution_count": 13,
   "id": "25000dc0-de68-4d22-89b0-2d93ad0b5425",
   "metadata": {},
   "outputs": [],
   "source": [
    "# Make a new copy of the DataFrame\n",
    "df1_monthly = df1.copy()"
   ]
  },
  {
   "cell_type": "code",
   "execution_count": 14,
   "id": "ccd1eebb-65c6-42bb-86f8-6a7b9243298f",
   "metadata": {},
   "outputs": [
    {
     "data": {
      "text/plain": [
       "date\n",
       "2000-01-31    14.3\n",
       "2000-02-29    62.2\n",
       "2000-03-31    13.4\n",
       "2000-04-30    71.8\n",
       "2000-05-31    68.4\n",
       "              ... \n",
       "2010-08-31    83.8\n",
       "2010-09-30    38.0\n",
       "2010-10-31    61.0\n",
       "2010-11-30    22.0\n",
       "2010-12-31    21.2\n",
       "Freq: M, Name: precipitation, Length: 132, dtype: float64"
      ]
     },
     "execution_count": 14,
     "metadata": {},
     "output_type": "execute_result"
    }
   ],
   "source": [
    "# Resample to monthly frequency, summing the precipitation\n",
    "monthly_precipitation = df1_monthly['precipitation'].resample('M').sum()\n",
    "monthly_precipitation"
   ]
  },
  {
   "cell_type": "code",
   "execution_count": 30,
   "id": "62ce7cd1-0433-46ca-a444-1145c45fc345",
   "metadata": {},
   "outputs": [
    {
     "data": {
      "text/plain": [
       "Timestamp('2009-11-30 00:00:00', freq='M')"
      ]
     },
     "execution_count": 30,
     "metadata": {},
     "output_type": "execute_result"
    }
   ],
   "source": [
    "#Find the date for the max precipitation.\n",
    "max_precipitation_date = monthly_precipitation.idxmax()\n",
    "max_precipitation_date\n"
   ]
  },
  {
   "cell_type": "code",
   "execution_count": 16,
   "id": "5cbdfb09-1d82-45f0-97e5-bead36e20049",
   "metadata": {},
   "outputs": [
    {
     "data": {
      "text/plain": [
       "138.4"
      ]
     },
     "execution_count": 16,
     "metadata": {},
     "output_type": "execute_result"
    }
   ],
   "source": [
    "#Find the corresponding value for the max precipitation.\n",
    "max_precipitation_value = monthly_precipitation.max()\n",
    "max_precipitation_value"
   ]
  },
  {
   "cell_type": "code",
   "execution_count": 17,
   "id": "de4ad917-f4f6-4631-89c7-b484d878a11c",
   "metadata": {},
   "outputs": [],
   "source": [
    "import matplotlib.dates as mdates"
   ]
  },
  {
   "cell_type": "code",
   "execution_count": 37,
   "id": "1a189170-195f-473e-b3f3-246d407ba648",
   "metadata": {},
   "outputs": [
    {
     "data": {
      "image/png": "[encoded data removed]",
      "text/plain": [
       "<Figure size 1200x300 with 1 Axes>"
      ]
     },
     "metadata": {},
     "output_type": "display_data"
    }
   ],
   "source": [
    "# Plot the data\n",
    "fig, ax = plt.subplots(figsize=(12, 3))\n",
    "monthly_precipitation.plot(ax=ax)\n",
    "# Customize the plot\n",
    "ax.set_title(\"Precipitation for 2000-2010\")\n",
    "ax.set_ylabel(\"Inches\")\n",
    "ax.set_xlabel(\"Month\")\n",
    "ax.xaxis.set_major_locator(mdates.YearLocator())\n",
    "ax.xaxis.set_major_formatter(mdates.DateFormatter('%Y'))\n",
    "ax.xaxis.set_minor_locator(mdates.MonthLocator(interval=3))\n",
    "ax.tick_params(axis='x', which='major', labelrotation=90)\n",
    "fig.autofmt_xdate()\n",
    "# Add a vertical line at the date with the max precipitation\n",
    "ax.axvline(max_precipitation_date, color='r', linestyle='--', label=f'{max_precipitation_date.strftime(\"%B %Y\")}: {max_precipitation_value:.2f} inches')\n",
    "ax.legend()\n",
    "plt.show()"
   ]
  },
  {
   "cell_type": "markdown",
   "id": "1bd67d51-ce51-4a1e-8c6b-f7866eea6f2f",
   "metadata": {},
   "source": [
    "# Q2: Which year between 2000-2020 had the coolest average temperature?\n",
    "\n",
    "Resample the  mean_temp data to a Yearly frequency using .mean() as the aggregation method.\n",
    "\n",
    "Plot the feature and time period that corresponds to the question.\n",
    "Make sure to meet the \"Visualization Requirements\" below!\n",
    "Determine the year and value for the lowest mean temp.\n",
    "Add a vertical line at this date with a label that says the date (using date format: \"2000\") and the lowest mean temperature value.\n",
    "\n",
    "Q2 Visualization Requirements\n",
    "Use a combination of pandas, matplotlib tick formatters, tick locators, and the fig.autofmt_xdate method to:\n",
    "Create a wide figure (e.g. figsize=(12,3))\n",
    "With the title \"Average Temperature\"\n",
    "With a ylabel of \"Degrees\"\n",
    "Customize the major xaxis ticks to:\n",
    "Have major xaxis ticks every 5 years.\n",
    "Use 4-digit years for the labels\n",
    "Rotate the major ticks' labels 90 degrees.\n",
    "Customize the minor xaxis ticks to:\n",
    "Have minor xaxis ticks every 1 year\n",
    "Do not label the minor ticks."
   ]
  },
  {
   "cell_type": "code",
   "execution_count": 20,
   "id": "344be543-f1fc-4d90-a9ea-225dce2e571c",
   "metadata": {},
   "outputs": [
    {
     "data": {
      "text/html": [
       "<div>\n",
       "<style scoped>\n",
       "    .dataframe tbody tr th:only-of-type {\n",
       "        vertical-align: middle;\n",
       "    }\n",
       "\n",
       "    .dataframe tbody tr th {\n",
       "        vertical-align: top;\n",
       "    }\n",
       "\n",
       "    .dataframe thead th {\n",
       "        text-align: right;\n",
       "    }\n",
       "</style>\n",
       "<table border=\"1\" class=\"dataframe\">\n",
       "  <thead>\n",
       "    <tr style=\"text-align: right;\">\n",
       "      <th></th>\n",
       "      <th>precipitation</th>\n",
       "      <th>mean_temp</th>\n",
       "      <th>min_temp</th>\n",
       "      <th>max_temp</th>\n",
       "      <th>snow_depth</th>\n",
       "    </tr>\n",
       "    <tr>\n",
       "      <th>date</th>\n",
       "      <th></th>\n",
       "      <th></th>\n",
       "      <th></th>\n",
       "      <th></th>\n",
       "      <th></th>\n",
       "    </tr>\n",
       "  </thead>\n",
       "  <tbody>\n",
       "    <tr>\n",
       "      <th>2000-01-01</th>\n",
       "      <td>0.0</td>\n",
       "      <td>7.0</td>\n",
       "      <td>4.9</td>\n",
       "      <td>10.8</td>\n",
       "      <td>0.0</td>\n",
       "    </tr>\n",
       "    <tr>\n",
       "      <th>2000-01-02</th>\n",
       "      <td>0.2</td>\n",
       "      <td>7.9</td>\n",
       "      <td>5.0</td>\n",
       "      <td>11.5</td>\n",
       "      <td>0.0</td>\n",
       "    </tr>\n",
       "    <tr>\n",
       "      <th>2000-01-03</th>\n",
       "      <td>6.0</td>\n",
       "      <td>9.4</td>\n",
       "      <td>7.2</td>\n",
       "      <td>9.5</td>\n",
       "      <td>0.0</td>\n",
       "    </tr>\n",
       "    <tr>\n",
       "      <th>2000-01-04</th>\n",
       "      <td>0.2</td>\n",
       "      <td>7.0</td>\n",
       "      <td>4.4</td>\n",
       "      <td>11.0</td>\n",
       "      <td>0.0</td>\n",
       "    </tr>\n",
       "    <tr>\n",
       "      <th>2000-01-05</th>\n",
       "      <td>0.8</td>\n",
       "      <td>6.4</td>\n",
       "      <td>1.9</td>\n",
       "      <td>10.8</td>\n",
       "      <td>0.0</td>\n",
       "    </tr>\n",
       "    <tr>\n",
       "      <th>...</th>\n",
       "      <td>...</td>\n",
       "      <td>...</td>\n",
       "      <td>...</td>\n",
       "      <td>...</td>\n",
       "      <td>...</td>\n",
       "    </tr>\n",
       "    <tr>\n",
       "      <th>2020-12-27</th>\n",
       "      <td>2.0</td>\n",
       "      <td>7.5</td>\n",
       "      <td>7.6</td>\n",
       "      <td>7.5</td>\n",
       "      <td>0.0</td>\n",
       "    </tr>\n",
       "    <tr>\n",
       "      <th>2020-12-28</th>\n",
       "      <td>0.2</td>\n",
       "      <td>1.1</td>\n",
       "      <td>-1.3</td>\n",
       "      <td>3.6</td>\n",
       "      <td>0.0</td>\n",
       "    </tr>\n",
       "    <tr>\n",
       "      <th>2020-12-29</th>\n",
       "      <td>0.0</td>\n",
       "      <td>2.6</td>\n",
       "      <td>1.1</td>\n",
       "      <td>4.1</td>\n",
       "      <td>0.0</td>\n",
       "    </tr>\n",
       "    <tr>\n",
       "      <th>2020-12-30</th>\n",
       "      <td>0.0</td>\n",
       "      <td>2.7</td>\n",
       "      <td>-0.1</td>\n",
       "      <td>5.6</td>\n",
       "      <td>0.0</td>\n",
       "    </tr>\n",
       "    <tr>\n",
       "      <th>2020-12-31</th>\n",
       "      <td>0.0</td>\n",
       "      <td>-0.8</td>\n",
       "      <td>-3.1</td>\n",
       "      <td>1.5</td>\n",
       "      <td>0.0</td>\n",
       "    </tr>\n",
       "  </tbody>\n",
       "</table>\n",
       "<p>7671 rows × 5 columns</p>\n",
       "</div>"
      ],
      "text/plain": [
       "            precipitation  mean_temp  min_temp  max_temp  snow_depth\n",
       "date                                                                \n",
       "2000-01-01            0.0        7.0       4.9      10.8         0.0\n",
       "2000-01-02            0.2        7.9       5.0      11.5         0.0\n",
       "2000-01-03            6.0        9.4       7.2       9.5         0.0\n",
       "2000-01-04            0.2        7.0       4.4      11.0         0.0\n",
       "2000-01-05            0.8        6.4       1.9      10.8         0.0\n",
       "...                   ...        ...       ...       ...         ...\n",
       "2020-12-27            2.0        7.5       7.6       7.5         0.0\n",
       "2020-12-28            0.2        1.1      -1.3       3.6         0.0\n",
       "2020-12-29            0.0        2.6       1.1       4.1         0.0\n",
       "2020-12-30            0.0        2.7      -0.1       5.6         0.0\n",
       "2020-12-31            0.0       -0.8      -3.1       1.5         0.0\n",
       "\n",
       "[7671 rows x 5 columns]"
      ]
     },
     "execution_count": 20,
     "metadata": {},
     "output_type": "execute_result"
    }
   ],
   "source": [
    "  # Date frame between 2000 through 2020\n",
    "  df2 = df.loc['2000':, ['precipitation', 'mean_temp', 'min_temp','max_temp', 'snow_depth']]\n",
    "  df2\n"
   ]
  },
  {
   "cell_type": "code",
   "execution_count": 21,
   "id": "5b81bb5b-8572-48af-a658-62c89eef8969",
   "metadata": {},
   "outputs": [],
   "source": [
    "# Make a new copy of the DataFrame\n",
    "df2_Yearly  = df2.copy()"
   ]
  },
  {
   "cell_type": "code",
   "execution_count": 22,
   "id": "62975a66-e742-4415-85e6-0a530de79d08",
   "metadata": {},
   "outputs": [
    {
     "data": {
      "text/plain": [
       "date\n",
       "2000-12-31    11.575683\n",
       "2001-12-31    11.331507\n",
       "2002-12-31    12.084247\n",
       "2003-12-31    12.114521\n",
       "2004-12-31    11.900683\n",
       "2005-12-31    11.822877\n",
       "2006-12-31    12.290822\n",
       "2007-12-31    11.944384\n",
       "2008-12-31    11.326776\n",
       "2009-12-31    11.721644\n",
       "2010-12-31    10.657397\n",
       "2011-12-31    12.366438\n",
       "2012-12-31    11.300956\n",
       "2013-12-31    11.166301\n",
       "2014-12-31    12.658904\n",
       "2015-12-31    12.123699\n",
       "2016-12-31    11.906284\n",
       "2017-12-31    12.242466\n",
       "2018-12-31    12.501370\n",
       "2019-12-31    12.206164\n",
       "2020-12-31    12.723634\n",
       "Freq: A-DEC, Name: mean_temp, dtype: float64"
      ]
     },
     "execution_count": 22,
     "metadata": {},
     "output_type": "execute_result"
    }
   ],
   "source": [
    "# Resample to yearly frequency\n",
    "Yearly_temp = df2_Yearly['mean_temp'].resample('Y').mean()\n",
    "Yearly_temp"
   ]
  },
  {
   "cell_type": "code",
   "execution_count": 31,
   "id": "ea69fcd4-2ce6-4222-b4c2-04450fbcb2c0",
   "metadata": {},
   "outputs": [
    {
     "data": {
      "text/plain": [
       "2010"
      ]
     },
     "execution_count": 31,
     "metadata": {},
     "output_type": "execute_result"
    }
   ],
   "source": [
    "#Find the date for the min temp.\n",
    "min_temp_date =Yearly_temp.idxmin()\n",
    "min_temp_date.year"
   ]
  },
  {
   "cell_type": "code",
   "execution_count": 32,
   "id": "14042b5f-e052-4298-9be9-b3f554463da8",
   "metadata": {},
   "outputs": [
    {
     "data": {
      "text/plain": [
       "10.657397260273973"
      ]
     },
     "execution_count": 32,
     "metadata": {},
     "output_type": "execute_result"
    }
   ],
   "source": [
    "#Find the corresponding value for min temp\n",
    "min_temp_value = Yearly_temp.min()\n",
    "min_temp_value"
   ]
  },
  {
   "cell_type": "code",
   "execution_count": 38,
   "id": "30a35721-cd1b-4b0d-9b1b-5691f3cf4512",
   "metadata": {},
   "outputs": [
    {
     "data": {
      "image/png": "[encoded data removed]",
      "text/plain": [
       "<Figure size 1200x300 with 1 Axes>"
      ]
     },
     "metadata": {},
     "output_type": "display_data"
    }
   ],
   "source": [
    "# Plot the data\n",
    "fig, ax = plt.subplots(figsize=(12, 3))\n",
    "Yearly_temp.plot(ax=ax)\n",
    "# Customize the plot\n",
    "ax.set_title(\"Average Temperature\")\n",
    "ax.set_ylabel(\"Degrees\")\n",
    "ax.set_xlabel(\"Year\")\n",
    "ax.xaxis.set_major_locator(mdates.YearLocator(5))\n",
    "ax.xaxis.set_major_formatter(mdates.DateFormatter('%Y'))\n",
    "ax.xaxis.set_minor_locator(mdates.YearLocator(1))\n",
    "ax.tick_params(axis='x', labelrotation=90)\n",
    "# Add a vertical line at the date with the min temp\n",
    "\n",
    "ax.axvline(min_temp_Year, color='r', linestyle='--', label=f'{min_temp_Year.strftime(\"%Y\")}: {min_temp_value:.2f} Degrees')\n",
    "fig.autofmt_xdate()\n",
    "ax.legend()\n",
    "plt.show()"
   ]
  }
 ],
 "metadata": {
  "kernelspec": {
   "display_name": "Python 3 (ipykernel)",
   "language": "python",
   "name": "python3"
  },
  "language_info": {
   "codemirror_mode": {
    "name": "ipython",
    "version": 3
   },
   "file_extension": ".py",
   "mimetype": "text/x-python",
   "name": "python",
   "nbconvert_exporter": "python",
   "pygments_lexer": "ipython3",
   "version": "3.10.10"
  },
  "widgets": {
   "application/vnd.jupyter.widget-state+json": {
    "state": {},
    "version_major": 2,
    "version_minor": 0
   }
  }
 },
 "nbformat": 4,
 "nbformat_minor": 5
}
